{
 "cells": [
  {
   "cell_type": "code",
   "execution_count": 1,
   "id": "amino-tutorial",
   "metadata": {},
   "outputs": [],
   "source": [
    "import pandas as pd\n",
    "import numpy as np"
   ]
  },
  {
   "cell_type": "markdown",
   "id": "ruled-outline",
   "metadata": {},
   "source": [
    "# Preprocessing Sources"
   ]
  },
  {
   "cell_type": "markdown",
   "id": "threatened-elder",
   "metadata": {},
   "source": [
    "We will use data from the [Center for Systems Science and Engineering (CSSE) at Johns Hopkins University](https://github.com/CSSEGISandData/COVID-19) repo at GitHub."
   ]
  },
  {
   "cell_type": "markdown",
   "id": "cooperative-authorization",
   "metadata": {},
   "source": [
    "## Deaths dataset"
   ]
  },
  {
   "cell_type": "code",
   "execution_count": 2,
   "id": "romantic-leave",
   "metadata": {},
   "outputs": [],
   "source": [
    "deaths = pd.read_csv('https://raw.githubusercontent.com/CSSEGISandData/COVID-19/master/csse_covid_19_data/csse_covid_19_time_series/time_series_covid19_deaths_global.csv')"
   ]
  },
  {
   "cell_type": "code",
   "execution_count": 3,
   "id": "smaller-ordering",
   "metadata": {},
   "outputs": [
    {
     "data": {
      "text/html": [
       "<div>\n",
       "<style scoped>\n",
       "    .dataframe tbody tr th:only-of-type {\n",
       "        vertical-align: middle;\n",
       "    }\n",
       "\n",
       "    .dataframe tbody tr th {\n",
       "        vertical-align: top;\n",
       "    }\n",
       "\n",
       "    .dataframe thead th {\n",
       "        text-align: right;\n",
       "    }\n",
       "</style>\n",
       "<table border=\"1\" class=\"dataframe\">\n",
       "  <thead>\n",
       "    <tr style=\"text-align: right;\">\n",
       "      <th></th>\n",
       "      <th>Province/State</th>\n",
       "      <th>Country/Region</th>\n",
       "      <th>Lat</th>\n",
       "      <th>Long</th>\n",
       "      <th>1/22/20</th>\n",
       "      <th>1/23/20</th>\n",
       "      <th>1/24/20</th>\n",
       "      <th>1/25/20</th>\n",
       "      <th>1/26/20</th>\n",
       "      <th>1/27/20</th>\n",
       "      <th>...</th>\n",
       "      <th>5/17/21</th>\n",
       "      <th>5/18/21</th>\n",
       "      <th>5/19/21</th>\n",
       "      <th>5/20/21</th>\n",
       "      <th>5/21/21</th>\n",
       "      <th>5/22/21</th>\n",
       "      <th>5/23/21</th>\n",
       "      <th>5/24/21</th>\n",
       "      <th>5/25/21</th>\n",
       "      <th>5/26/21</th>\n",
       "    </tr>\n",
       "  </thead>\n",
       "  <tbody>\n",
       "    <tr>\n",
       "      <th>0</th>\n",
       "      <td>NaN</td>\n",
       "      <td>Afghanistan</td>\n",
       "      <td>33.93911</td>\n",
       "      <td>67.709953</td>\n",
       "      <td>0</td>\n",
       "      <td>0</td>\n",
       "      <td>0</td>\n",
       "      <td>0</td>\n",
       "      <td>0</td>\n",
       "      <td>0</td>\n",
       "      <td>...</td>\n",
       "      <td>2745</td>\n",
       "      <td>2751</td>\n",
       "      <td>2762</td>\n",
       "      <td>2772</td>\n",
       "      <td>2782</td>\n",
       "      <td>2792</td>\n",
       "      <td>2802</td>\n",
       "      <td>2812</td>\n",
       "      <td>2836</td>\n",
       "      <td>2855</td>\n",
       "    </tr>\n",
       "    <tr>\n",
       "      <th>1</th>\n",
       "      <td>NaN</td>\n",
       "      <td>Albania</td>\n",
       "      <td>41.15330</td>\n",
       "      <td>20.168300</td>\n",
       "      <td>0</td>\n",
       "      <td>0</td>\n",
       "      <td>0</td>\n",
       "      <td>0</td>\n",
       "      <td>0</td>\n",
       "      <td>0</td>\n",
       "      <td>...</td>\n",
       "      <td>2435</td>\n",
       "      <td>2436</td>\n",
       "      <td>2438</td>\n",
       "      <td>2440</td>\n",
       "      <td>2441</td>\n",
       "      <td>2442</td>\n",
       "      <td>2444</td>\n",
       "      <td>2445</td>\n",
       "      <td>2447</td>\n",
       "      <td>2447</td>\n",
       "    </tr>\n",
       "    <tr>\n",
       "      <th>2</th>\n",
       "      <td>NaN</td>\n",
       "      <td>Algeria</td>\n",
       "      <td>28.03390</td>\n",
       "      <td>1.659600</td>\n",
       "      <td>0</td>\n",
       "      <td>0</td>\n",
       "      <td>0</td>\n",
       "      <td>0</td>\n",
       "      <td>0</td>\n",
       "      <td>0</td>\n",
       "      <td>...</td>\n",
       "      <td>3381</td>\n",
       "      <td>3388</td>\n",
       "      <td>3395</td>\n",
       "      <td>3401</td>\n",
       "      <td>3405</td>\n",
       "      <td>3411</td>\n",
       "      <td>3418</td>\n",
       "      <td>3426</td>\n",
       "      <td>3433</td>\n",
       "      <td>3440</td>\n",
       "    </tr>\n",
       "    <tr>\n",
       "      <th>3</th>\n",
       "      <td>NaN</td>\n",
       "      <td>Andorra</td>\n",
       "      <td>42.50630</td>\n",
       "      <td>1.521800</td>\n",
       "      <td>0</td>\n",
       "      <td>0</td>\n",
       "      <td>0</td>\n",
       "      <td>0</td>\n",
       "      <td>0</td>\n",
       "      <td>0</td>\n",
       "      <td>...</td>\n",
       "      <td>127</td>\n",
       "      <td>127</td>\n",
       "      <td>127</td>\n",
       "      <td>127</td>\n",
       "      <td>127</td>\n",
       "      <td>127</td>\n",
       "      <td>127</td>\n",
       "      <td>127</td>\n",
       "      <td>127</td>\n",
       "      <td>127</td>\n",
       "    </tr>\n",
       "    <tr>\n",
       "      <th>4</th>\n",
       "      <td>NaN</td>\n",
       "      <td>Angola</td>\n",
       "      <td>-11.20270</td>\n",
       "      <td>17.873900</td>\n",
       "      <td>0</td>\n",
       "      <td>0</td>\n",
       "      <td>0</td>\n",
       "      <td>0</td>\n",
       "      <td>0</td>\n",
       "      <td>0</td>\n",
       "      <td>...</td>\n",
       "      <td>677</td>\n",
       "      <td>685</td>\n",
       "      <td>696</td>\n",
       "      <td>704</td>\n",
       "      <td>709</td>\n",
       "      <td>715</td>\n",
       "      <td>725</td>\n",
       "      <td>731</td>\n",
       "      <td>735</td>\n",
       "      <td>742</td>\n",
       "    </tr>\n",
       "  </tbody>\n",
       "</table>\n",
       "<p>5 rows × 495 columns</p>\n",
       "</div>"
      ],
      "text/plain": [
       "  Province/State Country/Region       Lat       Long  1/22/20  1/23/20  \\\n",
       "0            NaN    Afghanistan  33.93911  67.709953        0        0   \n",
       "1            NaN        Albania  41.15330  20.168300        0        0   \n",
       "2            NaN        Algeria  28.03390   1.659600        0        0   \n",
       "3            NaN        Andorra  42.50630   1.521800        0        0   \n",
       "4            NaN         Angola -11.20270  17.873900        0        0   \n",
       "\n",
       "   1/24/20  1/25/20  1/26/20  1/27/20  ...  5/17/21  5/18/21  5/19/21  \\\n",
       "0        0        0        0        0  ...     2745     2751     2762   \n",
       "1        0        0        0        0  ...     2435     2436     2438   \n",
       "2        0        0        0        0  ...     3381     3388     3395   \n",
       "3        0        0        0        0  ...      127      127      127   \n",
       "4        0        0        0        0  ...      677      685      696   \n",
       "\n",
       "   5/20/21  5/21/21  5/22/21  5/23/21  5/24/21  5/25/21  5/26/21  \n",
       "0     2772     2782     2792     2802     2812     2836     2855  \n",
       "1     2440     2441     2442     2444     2445     2447     2447  \n",
       "2     3401     3405     3411     3418     3426     3433     3440  \n",
       "3      127      127      127      127      127      127      127  \n",
       "4      704      709      715      725      731      735      742  \n",
       "\n",
       "[5 rows x 495 columns]"
      ]
     },
     "execution_count": 3,
     "metadata": {},
     "output_type": "execute_result"
    }
   ],
   "source": [
    "deaths.head()"
   ]
  },
  {
   "cell_type": "markdown",
   "id": "diverse-owner",
   "metadata": {},
   "source": [
    "Dropping unnecessary features as we'll work with country-wise information."
   ]
  },
  {
   "cell_type": "code",
   "execution_count": 4,
   "id": "ecological-anchor",
   "metadata": {},
   "outputs": [],
   "source": [
    "deaths.drop(columns=['Province/State'], inplace=True)"
   ]
  },
  {
   "cell_type": "markdown",
   "id": "offensive-productivity",
   "metadata": {},
   "source": [
    "### Changing data display from wide format to long format"
   ]
  },
  {
   "cell_type": "markdown",
   "id": "recovered-tracy",
   "metadata": {},
   "source": [
    "This will be useful later on for easier data viz.\n",
    "\n",
    "It's simply a reshape of the dataframe grabbing all the dates columns and turning them into one `Date` column and using each of their values for a new column called `Deaths`."
   ]
  },
  {
   "cell_type": "code",
   "execution_count": 5,
   "id": "organic-energy",
   "metadata": {},
   "outputs": [
    {
     "data": {
      "text/html": [
       "<div>\n",
       "<style scoped>\n",
       "    .dataframe tbody tr th:only-of-type {\n",
       "        vertical-align: middle;\n",
       "    }\n",
       "\n",
       "    .dataframe tbody tr th {\n",
       "        vertical-align: top;\n",
       "    }\n",
       "\n",
       "    .dataframe thead th {\n",
       "        text-align: right;\n",
       "    }\n",
       "</style>\n",
       "<table border=\"1\" class=\"dataframe\">\n",
       "  <thead>\n",
       "    <tr style=\"text-align: right;\">\n",
       "      <th></th>\n",
       "      <th>Country/Region</th>\n",
       "      <th>Lat</th>\n",
       "      <th>Long</th>\n",
       "      <th>Date</th>\n",
       "      <th>Deaths</th>\n",
       "    </tr>\n",
       "  </thead>\n",
       "  <tbody>\n",
       "    <tr>\n",
       "      <th>0</th>\n",
       "      <td>Afghanistan</td>\n",
       "      <td>33.93911</td>\n",
       "      <td>67.709953</td>\n",
       "      <td>1/22/20</td>\n",
       "      <td>0</td>\n",
       "    </tr>\n",
       "    <tr>\n",
       "      <th>1</th>\n",
       "      <td>Albania</td>\n",
       "      <td>41.15330</td>\n",
       "      <td>20.168300</td>\n",
       "      <td>1/22/20</td>\n",
       "      <td>0</td>\n",
       "    </tr>\n",
       "    <tr>\n",
       "      <th>2</th>\n",
       "      <td>Algeria</td>\n",
       "      <td>28.03390</td>\n",
       "      <td>1.659600</td>\n",
       "      <td>1/22/20</td>\n",
       "      <td>0</td>\n",
       "    </tr>\n",
       "    <tr>\n",
       "      <th>3</th>\n",
       "      <td>Andorra</td>\n",
       "      <td>42.50630</td>\n",
       "      <td>1.521800</td>\n",
       "      <td>1/22/20</td>\n",
       "      <td>0</td>\n",
       "    </tr>\n",
       "    <tr>\n",
       "      <th>4</th>\n",
       "      <td>Angola</td>\n",
       "      <td>-11.20270</td>\n",
       "      <td>17.873900</td>\n",
       "      <td>1/22/20</td>\n",
       "      <td>0</td>\n",
       "    </tr>\n",
       "  </tbody>\n",
       "</table>\n",
       "</div>"
      ],
      "text/plain": [
       "  Country/Region       Lat       Long     Date  Deaths\n",
       "0    Afghanistan  33.93911  67.709953  1/22/20       0\n",
       "1        Albania  41.15330  20.168300  1/22/20       0\n",
       "2        Algeria  28.03390   1.659600  1/22/20       0\n",
       "3        Andorra  42.50630   1.521800  1/22/20       0\n",
       "4         Angola -11.20270  17.873900  1/22/20       0"
      ]
     },
     "execution_count": 5,
     "metadata": {},
     "output_type": "execute_result"
    }
   ],
   "source": [
    "dates_list = deaths.columns.drop(['Country/Region', 'Lat', 'Long' ])\n",
    "\n",
    "deaths_df = deaths.melt(id_vars=['Country/Region', 'Lat', 'Long' ], value_vars=dates_list,\n",
    "           var_name='Date', value_name='Deaths')\n",
    "\n",
    "deaths_df.head()"
   ]
  },
  {
   "cell_type": "markdown",
   "id": "respiratory-quebec",
   "metadata": {},
   "source": [
    "As some countries have information per `Province/State` we need to group information by `Country/Region` and `Date` to get the correspondent total `Deaths`."
   ]
  },
  {
   "cell_type": "code",
   "execution_count": 6,
   "id": "personalized-recipe",
   "metadata": {},
   "outputs": [],
   "source": [
    "deaths_grouped = deaths_df.groupby(by=['Country/Region', 'Date'], as_index=False).agg({\n",
    "    'Lat': np.mean, # We'll use the mean to get a correct location to be used in Tableau\n",
    "    'Long': np.mean,\n",
    "    'Deaths': sum\n",
    "})"
   ]
  },
  {
   "cell_type": "markdown",
   "id": "manufactured-advocate",
   "metadata": {},
   "source": [
    "## Confirmed cases data set"
   ]
  },
  {
   "cell_type": "markdown",
   "id": "tracked-guitar",
   "metadata": {},
   "source": [
    "Given that's the same format as in the `deaths` dataset, we'll perform the same operations."
   ]
  },
  {
   "cell_type": "code",
   "execution_count": 7,
   "id": "becoming-adolescent",
   "metadata": {},
   "outputs": [
    {
     "data": {
      "text/html": [
       "<div>\n",
       "<style scoped>\n",
       "    .dataframe tbody tr th:only-of-type {\n",
       "        vertical-align: middle;\n",
       "    }\n",
       "\n",
       "    .dataframe tbody tr th {\n",
       "        vertical-align: top;\n",
       "    }\n",
       "\n",
       "    .dataframe thead th {\n",
       "        text-align: right;\n",
       "    }\n",
       "</style>\n",
       "<table border=\"1\" class=\"dataframe\">\n",
       "  <thead>\n",
       "    <tr style=\"text-align: right;\">\n",
       "      <th></th>\n",
       "      <th>Province/State</th>\n",
       "      <th>Country/Region</th>\n",
       "      <th>Lat</th>\n",
       "      <th>Long</th>\n",
       "      <th>1/22/20</th>\n",
       "      <th>1/23/20</th>\n",
       "      <th>1/24/20</th>\n",
       "      <th>1/25/20</th>\n",
       "      <th>1/26/20</th>\n",
       "      <th>1/27/20</th>\n",
       "      <th>...</th>\n",
       "      <th>5/17/21</th>\n",
       "      <th>5/18/21</th>\n",
       "      <th>5/19/21</th>\n",
       "      <th>5/20/21</th>\n",
       "      <th>5/21/21</th>\n",
       "      <th>5/22/21</th>\n",
       "      <th>5/23/21</th>\n",
       "      <th>5/24/21</th>\n",
       "      <th>5/25/21</th>\n",
       "      <th>5/26/21</th>\n",
       "    </tr>\n",
       "  </thead>\n",
       "  <tbody>\n",
       "    <tr>\n",
       "      <th>0</th>\n",
       "      <td>NaN</td>\n",
       "      <td>Afghanistan</td>\n",
       "      <td>33.93911</td>\n",
       "      <td>67.709953</td>\n",
       "      <td>0</td>\n",
       "      <td>0</td>\n",
       "      <td>0</td>\n",
       "      <td>0</td>\n",
       "      <td>0</td>\n",
       "      <td>0</td>\n",
       "      <td>...</td>\n",
       "      <td>63598</td>\n",
       "      <td>63819</td>\n",
       "      <td>64122</td>\n",
       "      <td>64575</td>\n",
       "      <td>65080</td>\n",
       "      <td>65486</td>\n",
       "      <td>65728</td>\n",
       "      <td>66275</td>\n",
       "      <td>66903</td>\n",
       "      <td>67743</td>\n",
       "    </tr>\n",
       "    <tr>\n",
       "      <th>1</th>\n",
       "      <td>NaN</td>\n",
       "      <td>Albania</td>\n",
       "      <td>41.15330</td>\n",
       "      <td>20.168300</td>\n",
       "      <td>0</td>\n",
       "      <td>0</td>\n",
       "      <td>0</td>\n",
       "      <td>0</td>\n",
       "      <td>0</td>\n",
       "      <td>0</td>\n",
       "      <td>...</td>\n",
       "      <td>132032</td>\n",
       "      <td>132071</td>\n",
       "      <td>132095</td>\n",
       "      <td>132118</td>\n",
       "      <td>132153</td>\n",
       "      <td>132176</td>\n",
       "      <td>132209</td>\n",
       "      <td>132215</td>\n",
       "      <td>132229</td>\n",
       "      <td>132244</td>\n",
       "    </tr>\n",
       "    <tr>\n",
       "      <th>2</th>\n",
       "      <td>NaN</td>\n",
       "      <td>Algeria</td>\n",
       "      <td>28.03390</td>\n",
       "      <td>1.659600</td>\n",
       "      <td>0</td>\n",
       "      <td>0</td>\n",
       "      <td>0</td>\n",
       "      <td>0</td>\n",
       "      <td>0</td>\n",
       "      <td>0</td>\n",
       "      <td>...</td>\n",
       "      <td>125485</td>\n",
       "      <td>125693</td>\n",
       "      <td>125896</td>\n",
       "      <td>126156</td>\n",
       "      <td>126434</td>\n",
       "      <td>126651</td>\n",
       "      <td>126860</td>\n",
       "      <td>127107</td>\n",
       "      <td>127361</td>\n",
       "      <td>127646</td>\n",
       "    </tr>\n",
       "    <tr>\n",
       "      <th>3</th>\n",
       "      <td>NaN</td>\n",
       "      <td>Andorra</td>\n",
       "      <td>42.50630</td>\n",
       "      <td>1.521800</td>\n",
       "      <td>0</td>\n",
       "      <td>0</td>\n",
       "      <td>0</td>\n",
       "      <td>0</td>\n",
       "      <td>0</td>\n",
       "      <td>0</td>\n",
       "      <td>...</td>\n",
       "      <td>13555</td>\n",
       "      <td>13569</td>\n",
       "      <td>13569</td>\n",
       "      <td>13569</td>\n",
       "      <td>13569</td>\n",
       "      <td>13569</td>\n",
       "      <td>13569</td>\n",
       "      <td>13569</td>\n",
       "      <td>13664</td>\n",
       "      <td>13671</td>\n",
       "    </tr>\n",
       "    <tr>\n",
       "      <th>4</th>\n",
       "      <td>NaN</td>\n",
       "      <td>Angola</td>\n",
       "      <td>-11.20270</td>\n",
       "      <td>17.873900</td>\n",
       "      <td>0</td>\n",
       "      <td>0</td>\n",
       "      <td>0</td>\n",
       "      <td>0</td>\n",
       "      <td>0</td>\n",
       "      <td>0</td>\n",
       "      <td>...</td>\n",
       "      <td>30787</td>\n",
       "      <td>31045</td>\n",
       "      <td>31438</td>\n",
       "      <td>31661</td>\n",
       "      <td>31909</td>\n",
       "      <td>32149</td>\n",
       "      <td>32441</td>\n",
       "      <td>32623</td>\n",
       "      <td>32933</td>\n",
       "      <td>33338</td>\n",
       "    </tr>\n",
       "  </tbody>\n",
       "</table>\n",
       "<p>5 rows × 495 columns</p>\n",
       "</div>"
      ],
      "text/plain": [
       "  Province/State Country/Region       Lat       Long  1/22/20  1/23/20  \\\n",
       "0            NaN    Afghanistan  33.93911  67.709953        0        0   \n",
       "1            NaN        Albania  41.15330  20.168300        0        0   \n",
       "2            NaN        Algeria  28.03390   1.659600        0        0   \n",
       "3            NaN        Andorra  42.50630   1.521800        0        0   \n",
       "4            NaN         Angola -11.20270  17.873900        0        0   \n",
       "\n",
       "   1/24/20  1/25/20  1/26/20  1/27/20  ...  5/17/21  5/18/21  5/19/21  \\\n",
       "0        0        0        0        0  ...    63598    63819    64122   \n",
       "1        0        0        0        0  ...   132032   132071   132095   \n",
       "2        0        0        0        0  ...   125485   125693   125896   \n",
       "3        0        0        0        0  ...    13555    13569    13569   \n",
       "4        0        0        0        0  ...    30787    31045    31438   \n",
       "\n",
       "   5/20/21  5/21/21  5/22/21  5/23/21  5/24/21  5/25/21  5/26/21  \n",
       "0    64575    65080    65486    65728    66275    66903    67743  \n",
       "1   132118   132153   132176   132209   132215   132229   132244  \n",
       "2   126156   126434   126651   126860   127107   127361   127646  \n",
       "3    13569    13569    13569    13569    13569    13664    13671  \n",
       "4    31661    31909    32149    32441    32623    32933    33338  \n",
       "\n",
       "[5 rows x 495 columns]"
      ]
     },
     "execution_count": 7,
     "metadata": {},
     "output_type": "execute_result"
    }
   ],
   "source": [
    "confirmed = pd.read_csv('https://raw.githubusercontent.com/CSSEGISandData/COVID-19/master/csse_covid_19_data/csse_covid_19_time_series/time_series_covid19_confirmed_global.csv')\n",
    "confirmed.head()"
   ]
  },
  {
   "cell_type": "code",
   "execution_count": 8,
   "id": "solved-software",
   "metadata": {},
   "outputs": [],
   "source": [
    "confirmed.drop(columns=['Province/State'], inplace=True)\n",
    "\n",
    "confirmed_df = confirmed.melt(id_vars=['Country/Region', 'Lat', 'Long' ], value_vars=dates_list,\n",
    "           var_name='Date', value_name='Confirmed')\n",
    "\n",
    "\n",
    "confirmed_grouped = confirmed_df.groupby(by=['Country/Region', 'Date'], as_index=False).agg({\n",
    "    'Lat': np.mean, # We'll use the mean to get a correct location to be used in Tableau\n",
    "    'Long': np.mean,\n",
    "    'Confirmed': sum\n",
    "})"
   ]
  },
  {
   "cell_type": "markdown",
   "id": "greenhouse-junction",
   "metadata": {},
   "source": [
    "## Recovered cases data set"
   ]
  },
  {
   "cell_type": "code",
   "execution_count": 9,
   "id": "understood-street",
   "metadata": {},
   "outputs": [],
   "source": [
    "recovered = pd.read_csv('https://raw.githubusercontent.com/CSSEGISandData/COVID-19/master/csse_covid_19_data/csse_covid_19_time_series/time_series_covid19_recovered_global.csv')"
   ]
  },
  {
   "cell_type": "code",
   "execution_count": 10,
   "id": "artistic-graduation",
   "metadata": {},
   "outputs": [],
   "source": [
    "recovered.drop(columns=['Province/State'], inplace=True)\n",
    "\n",
    "recovered_df = recovered.melt(id_vars=['Country/Region', 'Lat', 'Long' ], value_vars=dates_list,\n",
    "           var_name='Date', value_name='Recovered')\n",
    "\n",
    "\n",
    "recovered_grouped = recovered_df.groupby(by=['Country/Region', 'Date'], as_index=False).agg({\n",
    "    'Lat': np.mean, # We'll use the mean to get a correct location to be used in Tableau\n",
    "    'Long': np.mean,\n",
    "    'Recovered': sum\n",
    "})"
   ]
  },
  {
   "cell_type": "markdown",
   "id": "caroline-redhead",
   "metadata": {},
   "source": [
    "# Merging data"
   ]
  },
  {
   "cell_type": "markdown",
   "id": "expected-europe",
   "metadata": {},
   "source": [
    "Checking dataset's number of rows to match"
   ]
  },
  {
   "cell_type": "code",
   "execution_count": 11,
   "id": "further-globe",
   "metadata": {},
   "outputs": [
    {
     "data": {
      "text/plain": [
       "((94272, 5), (94272, 5), (94272, 5))"
      ]
     },
     "execution_count": 11,
     "metadata": {},
     "output_type": "execute_result"
    }
   ],
   "source": [
    "recovered_grouped.shape, deaths_grouped.shape, confirmed_grouped.shape "
   ]
  },
  {
   "cell_type": "markdown",
   "id": "subsequent-appointment",
   "metadata": {},
   "source": [
    "`recovered_df` dataset has a different layout from the others as some countries don't have the data split in `Province/State`. \n",
    "\n",
    "See the example with *Canada* :"
   ]
  },
  {
   "cell_type": "code",
   "execution_count": 12,
   "id": "incoming-finding",
   "metadata": {},
   "outputs": [
    {
     "data": {
      "text/html": [
       "<div>\n",
       "<style scoped>\n",
       "    .dataframe tbody tr th:only-of-type {\n",
       "        vertical-align: middle;\n",
       "    }\n",
       "\n",
       "    .dataframe tbody tr th {\n",
       "        vertical-align: top;\n",
       "    }\n",
       "\n",
       "    .dataframe thead th {\n",
       "        text-align: right;\n",
       "    }\n",
       "</style>\n",
       "<table border=\"1\" class=\"dataframe\">\n",
       "  <thead>\n",
       "    <tr style=\"text-align: right;\">\n",
       "      <th></th>\n",
       "      <th>Country/Region</th>\n",
       "      <th>Lat</th>\n",
       "      <th>Long</th>\n",
       "      <th>Date</th>\n",
       "      <th>Recovered</th>\n",
       "    </tr>\n",
       "  </thead>\n",
       "  <tbody>\n",
       "    <tr>\n",
       "      <th>39</th>\n",
       "      <td>Canada</td>\n",
       "      <td>56.1304</td>\n",
       "      <td>-106.3468</td>\n",
       "      <td>1/22/20</td>\n",
       "      <td>0</td>\n",
       "    </tr>\n",
       "    <tr>\n",
       "      <th>299</th>\n",
       "      <td>Canada</td>\n",
       "      <td>56.1304</td>\n",
       "      <td>-106.3468</td>\n",
       "      <td>1/23/20</td>\n",
       "      <td>0</td>\n",
       "    </tr>\n",
       "    <tr>\n",
       "      <th>559</th>\n",
       "      <td>Canada</td>\n",
       "      <td>56.1304</td>\n",
       "      <td>-106.3468</td>\n",
       "      <td>1/24/20</td>\n",
       "      <td>0</td>\n",
       "    </tr>\n",
       "    <tr>\n",
       "      <th>819</th>\n",
       "      <td>Canada</td>\n",
       "      <td>56.1304</td>\n",
       "      <td>-106.3468</td>\n",
       "      <td>1/25/20</td>\n",
       "      <td>0</td>\n",
       "    </tr>\n",
       "    <tr>\n",
       "      <th>1079</th>\n",
       "      <td>Canada</td>\n",
       "      <td>56.1304</td>\n",
       "      <td>-106.3468</td>\n",
       "      <td>1/26/20</td>\n",
       "      <td>0</td>\n",
       "    </tr>\n",
       "  </tbody>\n",
       "</table>\n",
       "</div>"
      ],
      "text/plain": [
       "     Country/Region      Lat      Long     Date  Recovered\n",
       "39           Canada  56.1304 -106.3468  1/22/20          0\n",
       "299          Canada  56.1304 -106.3468  1/23/20          0\n",
       "559          Canada  56.1304 -106.3468  1/24/20          0\n",
       "819          Canada  56.1304 -106.3468  1/25/20          0\n",
       "1079         Canada  56.1304 -106.3468  1/26/20          0"
      ]
     },
     "execution_count": 12,
     "metadata": {},
     "output_type": "execute_result"
    }
   ],
   "source": [
    "recovered_df[(recovered_df['Country/Region'] == 'Canada')].head()"
   ]
  },
  {
   "cell_type": "code",
   "execution_count": 13,
   "id": "regulated-perspective",
   "metadata": {},
   "outputs": [
    {
     "data": {
      "text/html": [
       "<div>\n",
       "<style scoped>\n",
       "    .dataframe tbody tr th:only-of-type {\n",
       "        vertical-align: middle;\n",
       "    }\n",
       "\n",
       "    .dataframe tbody tr th {\n",
       "        vertical-align: top;\n",
       "    }\n",
       "\n",
       "    .dataframe thead th {\n",
       "        text-align: right;\n",
       "    }\n",
       "</style>\n",
       "<table border=\"1\" class=\"dataframe\">\n",
       "  <thead>\n",
       "    <tr style=\"text-align: right;\">\n",
       "      <th></th>\n",
       "      <th>Country/Region</th>\n",
       "      <th>Lat</th>\n",
       "      <th>Long</th>\n",
       "      <th>Date</th>\n",
       "      <th>Confirmed</th>\n",
       "    </tr>\n",
       "  </thead>\n",
       "  <tbody>\n",
       "    <tr>\n",
       "      <th>39</th>\n",
       "      <td>Canada</td>\n",
       "      <td>53.9333</td>\n",
       "      <td>-116.5765</td>\n",
       "      <td>1/22/20</td>\n",
       "      <td>0</td>\n",
       "    </tr>\n",
       "    <tr>\n",
       "      <th>40</th>\n",
       "      <td>Canada</td>\n",
       "      <td>53.7267</td>\n",
       "      <td>-127.6476</td>\n",
       "      <td>1/22/20</td>\n",
       "      <td>0</td>\n",
       "    </tr>\n",
       "    <tr>\n",
       "      <th>41</th>\n",
       "      <td>Canada</td>\n",
       "      <td>0.0000</td>\n",
       "      <td>0.0000</td>\n",
       "      <td>1/22/20</td>\n",
       "      <td>0</td>\n",
       "    </tr>\n",
       "    <tr>\n",
       "      <th>42</th>\n",
       "      <td>Canada</td>\n",
       "      <td>0.0000</td>\n",
       "      <td>0.0000</td>\n",
       "      <td>1/22/20</td>\n",
       "      <td>0</td>\n",
       "    </tr>\n",
       "    <tr>\n",
       "      <th>43</th>\n",
       "      <td>Canada</td>\n",
       "      <td>53.7609</td>\n",
       "      <td>-98.8139</td>\n",
       "      <td>1/22/20</td>\n",
       "      <td>0</td>\n",
       "    </tr>\n",
       "  </tbody>\n",
       "</table>\n",
       "</div>"
      ],
      "text/plain": [
       "   Country/Region      Lat      Long     Date  Confirmed\n",
       "39         Canada  53.9333 -116.5765  1/22/20          0\n",
       "40         Canada  53.7267 -127.6476  1/22/20          0\n",
       "41         Canada   0.0000    0.0000  1/22/20          0\n",
       "42         Canada   0.0000    0.0000  1/22/20          0\n",
       "43         Canada  53.7609  -98.8139  1/22/20          0"
      ]
     },
     "execution_count": 13,
     "metadata": {},
     "output_type": "execute_result"
    }
   ],
   "source": [
    "confirmed_df[(confirmed_df['Country/Region'] == 'Canada')].head()"
   ]
  },
  {
   "cell_type": "code",
   "execution_count": 14,
   "id": "hollywood-filing",
   "metadata": {},
   "outputs": [
    {
     "data": {
      "text/html": [
       "<div>\n",
       "<style scoped>\n",
       "    .dataframe tbody tr th:only-of-type {\n",
       "        vertical-align: middle;\n",
       "    }\n",
       "\n",
       "    .dataframe tbody tr th {\n",
       "        vertical-align: top;\n",
       "    }\n",
       "\n",
       "    .dataframe thead th {\n",
       "        text-align: right;\n",
       "    }\n",
       "</style>\n",
       "<table border=\"1\" class=\"dataframe\">\n",
       "  <thead>\n",
       "    <tr style=\"text-align: right;\">\n",
       "      <th></th>\n",
       "      <th>Country/Region</th>\n",
       "      <th>Lat</th>\n",
       "      <th>Long</th>\n",
       "      <th>Date</th>\n",
       "      <th>Deaths</th>\n",
       "    </tr>\n",
       "  </thead>\n",
       "  <tbody>\n",
       "    <tr>\n",
       "      <th>39</th>\n",
       "      <td>Canada</td>\n",
       "      <td>53.9333</td>\n",
       "      <td>-116.5765</td>\n",
       "      <td>1/22/20</td>\n",
       "      <td>0</td>\n",
       "    </tr>\n",
       "    <tr>\n",
       "      <th>40</th>\n",
       "      <td>Canada</td>\n",
       "      <td>53.7267</td>\n",
       "      <td>-127.6476</td>\n",
       "      <td>1/22/20</td>\n",
       "      <td>0</td>\n",
       "    </tr>\n",
       "    <tr>\n",
       "      <th>41</th>\n",
       "      <td>Canada</td>\n",
       "      <td>0.0000</td>\n",
       "      <td>0.0000</td>\n",
       "      <td>1/22/20</td>\n",
       "      <td>0</td>\n",
       "    </tr>\n",
       "    <tr>\n",
       "      <th>42</th>\n",
       "      <td>Canada</td>\n",
       "      <td>0.0000</td>\n",
       "      <td>0.0000</td>\n",
       "      <td>1/22/20</td>\n",
       "      <td>0</td>\n",
       "    </tr>\n",
       "    <tr>\n",
       "      <th>43</th>\n",
       "      <td>Canada</td>\n",
       "      <td>53.7609</td>\n",
       "      <td>-98.8139</td>\n",
       "      <td>1/22/20</td>\n",
       "      <td>0</td>\n",
       "    </tr>\n",
       "  </tbody>\n",
       "</table>\n",
       "</div>"
      ],
      "text/plain": [
       "   Country/Region      Lat      Long     Date  Deaths\n",
       "39         Canada  53.9333 -116.5765  1/22/20       0\n",
       "40         Canada  53.7267 -127.6476  1/22/20       0\n",
       "41         Canada   0.0000    0.0000  1/22/20       0\n",
       "42         Canada   0.0000    0.0000  1/22/20       0\n",
       "43         Canada  53.7609  -98.8139  1/22/20       0"
      ]
     },
     "execution_count": 14,
     "metadata": {},
     "output_type": "execute_result"
    }
   ],
   "source": [
    "deaths_df[(deaths_df['Country/Region'] == 'Canada') ].head()"
   ]
  },
  {
   "cell_type": "markdown",
   "id": "voluntary-liberty",
   "metadata": {},
   "source": [
    "To avoid losing data while merging, we'll omit using `Lat` and `Long` from `deaths_grouped` and `confirmed_grouped` as it could lead to a conflict because it won't match the ones at `recovered_grouped`."
   ]
  },
  {
   "cell_type": "code",
   "execution_count": 15,
   "id": "toxic-bikini",
   "metadata": {},
   "outputs": [],
   "source": [
    "data = recovered_grouped.merge(\n",
    "    deaths_grouped[['Country/Region', 'Date', 'Deaths']], on=['Country/Region', 'Date']).merge(\n",
    "    confirmed_grouped[['Country/Region', 'Date', 'Confirmed']], on=['Country/Region', 'Date'])"
   ]
  },
  {
   "cell_type": "code",
   "execution_count": 16,
   "id": "middle-slope",
   "metadata": {},
   "outputs": [
    {
     "data": {
      "text/html": [
       "<div>\n",
       "<style scoped>\n",
       "    .dataframe tbody tr th:only-of-type {\n",
       "        vertical-align: middle;\n",
       "    }\n",
       "\n",
       "    .dataframe tbody tr th {\n",
       "        vertical-align: top;\n",
       "    }\n",
       "\n",
       "    .dataframe thead th {\n",
       "        text-align: right;\n",
       "    }\n",
       "</style>\n",
       "<table border=\"1\" class=\"dataframe\">\n",
       "  <thead>\n",
       "    <tr style=\"text-align: right;\">\n",
       "      <th></th>\n",
       "      <th>Country/Region</th>\n",
       "      <th>Date</th>\n",
       "      <th>Lat</th>\n",
       "      <th>Long</th>\n",
       "      <th>Recovered</th>\n",
       "      <th>Deaths</th>\n",
       "      <th>Confirmed</th>\n",
       "    </tr>\n",
       "  </thead>\n",
       "  <tbody>\n",
       "    <tr>\n",
       "      <th>49479</th>\n",
       "      <td>Libya</td>\n",
       "      <td>6/19/20</td>\n",
       "      <td>26.335100</td>\n",
       "      <td>17.228331</td>\n",
       "      <td>83</td>\n",
       "      <td>10</td>\n",
       "      <td>520</td>\n",
       "    </tr>\n",
       "    <tr>\n",
       "      <th>94200</th>\n",
       "      <td>Zimbabwe</td>\n",
       "      <td>7/28/20</td>\n",
       "      <td>-19.015438</td>\n",
       "      <td>29.154857</td>\n",
       "      <td>604</td>\n",
       "      <td>40</td>\n",
       "      <td>2817</td>\n",
       "    </tr>\n",
       "    <tr>\n",
       "      <th>24550</th>\n",
       "      <td>Dominica</td>\n",
       "      <td>1/1/21</td>\n",
       "      <td>15.415000</td>\n",
       "      <td>-61.371000</td>\n",
       "      <td>83</td>\n",
       "      <td>0</td>\n",
       "      <td>88</td>\n",
       "    </tr>\n",
       "    <tr>\n",
       "      <th>33730</th>\n",
       "      <td>Greece</td>\n",
       "      <td>5/23/20</td>\n",
       "      <td>39.074200</td>\n",
       "      <td>21.824300</td>\n",
       "      <td>1374</td>\n",
       "      <td>171</td>\n",
       "      <td>2876</td>\n",
       "    </tr>\n",
       "    <tr>\n",
       "      <th>49397</th>\n",
       "      <td>Libya</td>\n",
       "      <td>4/3/21</td>\n",
       "      <td>26.335100</td>\n",
       "      <td>17.228331</td>\n",
       "      <td>148288</td>\n",
       "      <td>2684</td>\n",
       "      <td>161088</td>\n",
       "    </tr>\n",
       "  </tbody>\n",
       "</table>\n",
       "</div>"
      ],
      "text/plain": [
       "      Country/Region     Date        Lat       Long  Recovered  Deaths  \\\n",
       "49479          Libya  6/19/20  26.335100  17.228331         83      10   \n",
       "94200       Zimbabwe  7/28/20 -19.015438  29.154857        604      40   \n",
       "24550       Dominica   1/1/21  15.415000 -61.371000         83       0   \n",
       "33730         Greece  5/23/20  39.074200  21.824300       1374     171   \n",
       "49397          Libya   4/3/21  26.335100  17.228331     148288    2684   \n",
       "\n",
       "       Confirmed  \n",
       "49479        520  \n",
       "94200       2817  \n",
       "24550         88  \n",
       "33730       2876  \n",
       "49397     161088  "
      ]
     },
     "execution_count": 16,
     "metadata": {},
     "output_type": "execute_result"
    }
   ],
   "source": [
    "data.sample(5)"
   ]
  },
  {
   "cell_type": "code",
   "execution_count": 17,
   "id": "superior-supplier",
   "metadata": {},
   "outputs": [
    {
     "data": {
      "text/plain": [
       "192"
      ]
     },
     "execution_count": 17,
     "metadata": {},
     "output_type": "execute_result"
    }
   ],
   "source": [
    "data['Country/Region'].nunique()"
   ]
  },
  {
   "cell_type": "markdown",
   "id": "relevant-place",
   "metadata": {},
   "source": [
    "# Combining our data with total population for each country"
   ]
  },
  {
   "cell_type": "markdown",
   "id": "innocent-copyright",
   "metadata": {},
   "source": [
    "We get another dataset containing the population for each country in order to be able to present data normalized by inhabitants.\n",
    "\n",
    "Source: [World Population Review](https://worldpopulationreview.com/countries)"
   ]
  },
  {
   "cell_type": "code",
   "execution_count": 18,
   "id": "aerial-tutorial",
   "metadata": {
    "scrolled": true
   },
   "outputs": [],
   "source": [
    "population = pd.read_csv('population.csv').drop(columns='Rank')\n",
    "\n",
    "population['pop2021'] = population['pop2021'] * 1000\n",
    "population['pop2020'] = population['pop2020'] * 1000"
   ]
  },
  {
   "cell_type": "code",
   "execution_count": 19,
   "id": "reflected-dispute",
   "metadata": {},
   "outputs": [
    {
     "data": {
      "text/html": [
       "<div>\n",
       "<style scoped>\n",
       "    .dataframe tbody tr th:only-of-type {\n",
       "        vertical-align: middle;\n",
       "    }\n",
       "\n",
       "    .dataframe tbody tr th {\n",
       "        vertical-align: top;\n",
       "    }\n",
       "\n",
       "    .dataframe thead th {\n",
       "        text-align: right;\n",
       "    }\n",
       "</style>\n",
       "<table border=\"1\" class=\"dataframe\">\n",
       "  <thead>\n",
       "    <tr style=\"text-align: right;\">\n",
       "      <th></th>\n",
       "      <th>name</th>\n",
       "      <th>pop2021</th>\n",
       "      <th>pop2020</th>\n",
       "      <th>GrowthRate</th>\n",
       "      <th>area</th>\n",
       "      <th>Density</th>\n",
       "    </tr>\n",
       "  </thead>\n",
       "  <tbody>\n",
       "    <tr>\n",
       "      <th>0</th>\n",
       "      <td>China</td>\n",
       "      <td>1.444216e+09</td>\n",
       "      <td>1.439324e+09</td>\n",
       "      <td>1.0034</td>\n",
       "      <td>9706961</td>\n",
       "      <td>147.7068</td>\n",
       "    </tr>\n",
       "    <tr>\n",
       "      <th>1</th>\n",
       "      <td>India</td>\n",
       "      <td>1.393409e+09</td>\n",
       "      <td>1.380004e+09</td>\n",
       "      <td>1.0097</td>\n",
       "      <td>3287590</td>\n",
       "      <td>415.6290</td>\n",
       "    </tr>\n",
       "    <tr>\n",
       "      <th>2</th>\n",
       "      <td>United States</td>\n",
       "      <td>3.329151e+08</td>\n",
       "      <td>3.310027e+08</td>\n",
       "      <td>1.0058</td>\n",
       "      <td>9372610</td>\n",
       "      <td>35.1092</td>\n",
       "    </tr>\n",
       "    <tr>\n",
       "      <th>3</th>\n",
       "      <td>Indonesia</td>\n",
       "      <td>2.763618e+08</td>\n",
       "      <td>2.735236e+08</td>\n",
       "      <td>1.0104</td>\n",
       "      <td>1904569</td>\n",
       "      <td>142.0928</td>\n",
       "    </tr>\n",
       "    <tr>\n",
       "      <th>4</th>\n",
       "      <td>Pakistan</td>\n",
       "      <td>2.251999e+08</td>\n",
       "      <td>2.208923e+08</td>\n",
       "      <td>1.0195</td>\n",
       "      <td>881912</td>\n",
       "      <td>245.5634</td>\n",
       "    </tr>\n",
       "  </tbody>\n",
       "</table>\n",
       "</div>"
      ],
      "text/plain": [
       "            name       pop2021       pop2020  GrowthRate     area   Density\n",
       "0          China  1.444216e+09  1.439324e+09      1.0034  9706961  147.7068\n",
       "1          India  1.393409e+09  1.380004e+09      1.0097  3287590  415.6290\n",
       "2  United States  3.329151e+08  3.310027e+08      1.0058  9372610   35.1092\n",
       "3      Indonesia  2.763618e+08  2.735236e+08      1.0104  1904569  142.0928\n",
       "4       Pakistan  2.251999e+08  2.208923e+08      1.0195   881912  245.5634"
      ]
     },
     "execution_count": 19,
     "metadata": {},
     "output_type": "execute_result"
    }
   ],
   "source": [
    "population.head()"
   ]
  },
  {
   "cell_type": "markdown",
   "id": "interesting-comparative",
   "metadata": {},
   "source": [
    "We'll check if every country's name is spelled the same in both datasets."
   ]
  },
  {
   "cell_type": "code",
   "execution_count": 20,
   "id": "steady-forward",
   "metadata": {},
   "outputs": [
    {
     "data": {
      "text/plain": [
       "['Burma',\n",
       " 'Cabo Verde',\n",
       " 'Congo (Brazzaville)',\n",
       " 'Congo (Kinshasa)',\n",
       " \"Cote d'Ivoire\",\n",
       " 'Czechia',\n",
       " 'Diamond Princess',\n",
       " 'Eswatini',\n",
       " 'Holy See',\n",
       " 'Korea, South',\n",
       " 'Kosovo',\n",
       " 'MS Zaandam',\n",
       " 'Taiwan*',\n",
       " 'US',\n",
       " 'West Bank and Gaza']"
      ]
     },
     "execution_count": 20,
     "metadata": {},
     "output_type": "execute_result"
    }
   ],
   "source": [
    " [country for country in data['Country/Region'].unique() if country not in population.name.unique()]"
   ]
  },
  {
   "cell_type": "markdown",
   "id": "lightweight-terminology",
   "metadata": {},
   "source": [
    "We'll need to manually input the names in our source dataset in order to match the population one."
   ]
  },
  {
   "cell_type": "code",
   "execution_count": 21,
   "id": "logical-vatican",
   "metadata": {},
   "outputs": [],
   "source": [
    "# We'll get rid of the Diamond Princess and MS Zaandam as we'll only consider countries.\n",
    "diamond = data[data['Country/Region'].str.contains('Diamond Princess') == True].index\n",
    "data.drop(diamond, inplace=True)\n",
    "zaandam = data[data['Country/Region'].str.contains('MS Zaandam') == True].index\n",
    "data.drop(zaandam, inplace=True)\n",
    "# We'll drop territories under dispute as they may be duplicating data.\n",
    "kosovo = data[data['Country/Region'].str.contains('Kosovo') == True].index\n",
    "data.drop(kosovo, inplace=True)\n",
    "west_bank = data[data['Country/Region'].str.contains('West Bank and Gaza') == True].index\n",
    "data.drop(west_bank, inplace=True)"
   ]
  },
  {
   "cell_type": "code",
   "execution_count": 22,
   "id": "entitled-mirror",
   "metadata": {},
   "outputs": [],
   "source": [
    "data['Country/Region'] = data['Country/Region'].str.replace('Burma', 'Myanmar')\n",
    "data['Country/Region'] = data['Country/Region'].str.replace('Cabo Verde', 'Cape Verde')\n",
    "data['Country/Region'] = data['Country/Region'].str.replace('''Congo (Brazzaville)''', 'Republic of the Congo',\n",
    "                                                            regex=False)\n",
    "data['Country/Region'] = data['Country/Region'].str.replace('''Congo (Kinshasa)''', 'DR Congo',\n",
    "                                                            regex=False)\n",
    "data['Country/Region'] = data['Country/Region'].str.replace('''Cote d'Ivoire''', 'Ivory Coast')\n",
    "data['Country/Region'] = data['Country/Region'].str.replace('Czechia', 'Czech Republic')\n",
    "data['Country/Region'] = data['Country/Region'].str.replace('Eswatini', 'Swaziland')\n",
    "data['Country/Region'] = data['Country/Region'].str.replace('Holy See', 'Vatican City')\n",
    "data['Country/Region'] = data['Country/Region'].str.replace('Korea, South', 'South Korea')\n",
    "data['Country/Region'] = data['Country/Region'].str.replace('Taiwan*', 'Taiwan', regex=False)\n",
    "data['Country/Region'] = data['Country/Region'].str.replace('US', 'United States')\n"
   ]
  },
  {
   "cell_type": "markdown",
   "id": "broad-effect",
   "metadata": {},
   "source": [
    "Test to check that every country is accounted for at the population dataframe:"
   ]
  },
  {
   "cell_type": "code",
   "execution_count": 23,
   "id": "developmental-package",
   "metadata": {},
   "outputs": [
    {
     "data": {
      "text/plain": [
       "'✅ Everything OK'"
      ]
     },
     "execution_count": 23,
     "metadata": {},
     "output_type": "execute_result"
    }
   ],
   "source": [
    "missing_countries = [country for country in data['Country/Region'].unique() \n",
    "                      if country not in population.name.unique()]\n",
    "def test_countries():\n",
    "    assert len(missing_countries) == 0, 'There are some countries not listed in population dataframe'\n",
    "    return '✅ Everything OK'\n",
    "\n",
    "test_countries()"
   ]
  },
  {
   "cell_type": "markdown",
   "id": "likely-employee",
   "metadata": {},
   "source": [
    "# Export data"
   ]
  },
  {
   "cell_type": "code",
   "execution_count": 24,
   "id": "widespread-working",
   "metadata": {},
   "outputs": [],
   "source": [
    "data.to_csv('covid.csv', index=False)"
   ]
  }
 ],
 "metadata": {
  "kernelspec": {
   "display_name": "Python 3",
   "language": "python",
   "name": "python3"
  },
  "language_info": {
   "codemirror_mode": {
    "name": "ipython",
    "version": 3
   },
   "file_extension": ".py",
   "mimetype": "text/x-python",
   "name": "python",
   "nbconvert_exporter": "python",
   "pygments_lexer": "ipython3",
   "version": "3.8.6"
  },
  "toc": {
   "base_numbering": 1,
   "nav_menu": {},
   "number_sections": true,
   "sideBar": true,
   "skip_h1_title": false,
   "title_cell": "Table of Contents",
   "title_sidebar": "Contents",
   "toc_cell": false,
   "toc_position": {},
   "toc_section_display": true,
   "toc_window_display": false
  },
  "varInspector": {
   "cols": {
    "lenName": 16,
    "lenType": 16,
    "lenVar": 40
   },
   "kernels_config": {
    "python": {
     "delete_cmd_postfix": "",
     "delete_cmd_prefix": "del ",
     "library": "var_list.py",
     "varRefreshCmd": "print(var_dic_list())"
    },
    "r": {
     "delete_cmd_postfix": ") ",
     "delete_cmd_prefix": "rm(",
     "library": "var_list.r",
     "varRefreshCmd": "cat(var_dic_list()) "
    }
   },
   "types_to_exclude": [
    "module",
    "function",
    "builtin_function_or_method",
    "instance",
    "_Feature"
   ],
   "window_display": false
  }
 },
 "nbformat": 4,
 "nbformat_minor": 5
}
