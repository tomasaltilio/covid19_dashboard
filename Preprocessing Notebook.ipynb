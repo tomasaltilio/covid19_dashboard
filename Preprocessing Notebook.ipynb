{
 "cells": [
  {
   "cell_type": "code",
   "execution_count": 1,
   "id": "amino-tutorial",
   "metadata": {},
   "outputs": [],
   "source": [
    "import pandas as pd\n",
    "import numpy as np"
   ]
  },
  {
   "cell_type": "markdown",
   "id": "ruled-outline",
   "metadata": {},
   "source": [
    "# Preprocessing Sources"
   ]
  },
  {
   "cell_type": "markdown",
   "id": "threatened-elder",
   "metadata": {},
   "source": [
    "We will use data from the [Center for Systems Science and Engineering (CSSE) at Johns Hopkins University](https://github.com/CSSEGISandData/COVID-19) repo at GitHub."
   ]
  },
  {
   "cell_type": "markdown",
   "id": "cooperative-authorization",
   "metadata": {},
   "source": [
    "## Deaths dataset"
   ]
  },
  {
   "cell_type": "code",
   "execution_count": 2,
   "id": "romantic-leave",
   "metadata": {},
   "outputs": [],
   "source": [
    "deaths = pd.read_csv('https://raw.githubusercontent.com/CSSEGISandData/COVID-19/master/csse_covid_19_data/csse_covid_19_time_series/time_series_covid19_deaths_global.csv')"
   ]
  },
  {
   "cell_type": "code",
   "execution_count": 3,
   "id": "smaller-ordering",
   "metadata": {},
   "outputs": [
    {
     "data": {
      "text/html": [
       "<div>\n",
       "<style scoped>\n",
       "    .dataframe tbody tr th:only-of-type {\n",
       "        vertical-align: middle;\n",
       "    }\n",
       "\n",
       "    .dataframe tbody tr th {\n",
       "        vertical-align: top;\n",
       "    }\n",
       "\n",
       "    .dataframe thead th {\n",
       "        text-align: right;\n",
       "    }\n",
       "</style>\n",
       "<table border=\"1\" class=\"dataframe\">\n",
       "  <thead>\n",
       "    <tr style=\"text-align: right;\">\n",
       "      <th></th>\n",
       "      <th>Province/State</th>\n",
       "      <th>Country/Region</th>\n",
       "      <th>Lat</th>\n",
       "      <th>Long</th>\n",
       "      <th>1/22/20</th>\n",
       "      <th>1/23/20</th>\n",
       "      <th>1/24/20</th>\n",
       "      <th>1/25/20</th>\n",
       "      <th>1/26/20</th>\n",
       "      <th>1/27/20</th>\n",
       "      <th>...</th>\n",
       "      <th>5/7/21</th>\n",
       "      <th>5/8/21</th>\n",
       "      <th>5/9/21</th>\n",
       "      <th>5/10/21</th>\n",
       "      <th>5/11/21</th>\n",
       "      <th>5/12/21</th>\n",
       "      <th>5/13/21</th>\n",
       "      <th>5/14/21</th>\n",
       "      <th>5/15/21</th>\n",
       "      <th>5/16/21</th>\n",
       "    </tr>\n",
       "  </thead>\n",
       "  <tbody>\n",
       "    <tr>\n",
       "      <th>0</th>\n",
       "      <td>NaN</td>\n",
       "      <td>Afghanistan</td>\n",
       "      <td>33.93911</td>\n",
       "      <td>67.709953</td>\n",
       "      <td>0</td>\n",
       "      <td>0</td>\n",
       "      <td>0</td>\n",
       "      <td>0</td>\n",
       "      <td>0</td>\n",
       "      <td>0</td>\n",
       "      <td>...</td>\n",
       "      <td>2673</td>\n",
       "      <td>2683</td>\n",
       "      <td>2686</td>\n",
       "      <td>2698</td>\n",
       "      <td>2710</td>\n",
       "      <td>2713</td>\n",
       "      <td>2721</td>\n",
       "      <td>2730</td>\n",
       "      <td>2733</td>\n",
       "      <td>2742</td>\n",
       "    </tr>\n",
       "    <tr>\n",
       "      <th>1</th>\n",
       "      <td>NaN</td>\n",
       "      <td>Albania</td>\n",
       "      <td>41.15330</td>\n",
       "      <td>20.168300</td>\n",
       "      <td>0</td>\n",
       "      <td>0</td>\n",
       "      <td>0</td>\n",
       "      <td>0</td>\n",
       "      <td>0</td>\n",
       "      <td>0</td>\n",
       "      <td>...</td>\n",
       "      <td>2408</td>\n",
       "      <td>2411</td>\n",
       "      <td>2412</td>\n",
       "      <td>2416</td>\n",
       "      <td>2420</td>\n",
       "      <td>2423</td>\n",
       "      <td>2426</td>\n",
       "      <td>2427</td>\n",
       "      <td>2429</td>\n",
       "      <td>2432</td>\n",
       "    </tr>\n",
       "    <tr>\n",
       "      <th>2</th>\n",
       "      <td>NaN</td>\n",
       "      <td>Algeria</td>\n",
       "      <td>28.03390</td>\n",
       "      <td>1.659600</td>\n",
       "      <td>0</td>\n",
       "      <td>0</td>\n",
       "      <td>0</td>\n",
       "      <td>0</td>\n",
       "      <td>0</td>\n",
       "      <td>0</td>\n",
       "      <td>...</td>\n",
       "      <td>3315</td>\n",
       "      <td>3321</td>\n",
       "      <td>3328</td>\n",
       "      <td>3335</td>\n",
       "      <td>3343</td>\n",
       "      <td>3350</td>\n",
       "      <td>3355</td>\n",
       "      <td>3360</td>\n",
       "      <td>3366</td>\n",
       "      <td>3374</td>\n",
       "    </tr>\n",
       "    <tr>\n",
       "      <th>3</th>\n",
       "      <td>NaN</td>\n",
       "      <td>Andorra</td>\n",
       "      <td>42.50630</td>\n",
       "      <td>1.521800</td>\n",
       "      <td>0</td>\n",
       "      <td>0</td>\n",
       "      <td>0</td>\n",
       "      <td>0</td>\n",
       "      <td>0</td>\n",
       "      <td>0</td>\n",
       "      <td>...</td>\n",
       "      <td>127</td>\n",
       "      <td>127</td>\n",
       "      <td>127</td>\n",
       "      <td>127</td>\n",
       "      <td>127</td>\n",
       "      <td>127</td>\n",
       "      <td>127</td>\n",
       "      <td>127</td>\n",
       "      <td>127</td>\n",
       "      <td>127</td>\n",
       "    </tr>\n",
       "    <tr>\n",
       "      <th>4</th>\n",
       "      <td>NaN</td>\n",
       "      <td>Angola</td>\n",
       "      <td>-11.20270</td>\n",
       "      <td>17.873900</td>\n",
       "      <td>0</td>\n",
       "      <td>0</td>\n",
       "      <td>0</td>\n",
       "      <td>0</td>\n",
       "      <td>0</td>\n",
       "      <td>0</td>\n",
       "      <td>...</td>\n",
       "      <td>628</td>\n",
       "      <td>630</td>\n",
       "      <td>633</td>\n",
       "      <td>636</td>\n",
       "      <td>639</td>\n",
       "      <td>645</td>\n",
       "      <td>649</td>\n",
       "      <td>651</td>\n",
       "      <td>655</td>\n",
       "      <td>659</td>\n",
       "    </tr>\n",
       "  </tbody>\n",
       "</table>\n",
       "<p>5 rows × 485 columns</p>\n",
       "</div>"
      ],
      "text/plain": [
       "  Province/State Country/Region       Lat       Long  1/22/20  1/23/20  \\\n",
       "0            NaN    Afghanistan  33.93911  67.709953        0        0   \n",
       "1            NaN        Albania  41.15330  20.168300        0        0   \n",
       "2            NaN        Algeria  28.03390   1.659600        0        0   \n",
       "3            NaN        Andorra  42.50630   1.521800        0        0   \n",
       "4            NaN         Angola -11.20270  17.873900        0        0   \n",
       "\n",
       "   1/24/20  1/25/20  1/26/20  1/27/20  ...  5/7/21  5/8/21  5/9/21  5/10/21  \\\n",
       "0        0        0        0        0  ...    2673    2683    2686     2698   \n",
       "1        0        0        0        0  ...    2408    2411    2412     2416   \n",
       "2        0        0        0        0  ...    3315    3321    3328     3335   \n",
       "3        0        0        0        0  ...     127     127     127      127   \n",
       "4        0        0        0        0  ...     628     630     633      636   \n",
       "\n",
       "   5/11/21  5/12/21  5/13/21  5/14/21  5/15/21  5/16/21  \n",
       "0     2710     2713     2721     2730     2733     2742  \n",
       "1     2420     2423     2426     2427     2429     2432  \n",
       "2     3343     3350     3355     3360     3366     3374  \n",
       "3      127      127      127      127      127      127  \n",
       "4      639      645      649      651      655      659  \n",
       "\n",
       "[5 rows x 485 columns]"
      ]
     },
     "execution_count": 3,
     "metadata": {},
     "output_type": "execute_result"
    }
   ],
   "source": [
    "deaths.head()"
   ]
  },
  {
   "cell_type": "markdown",
   "id": "diverse-owner",
   "metadata": {},
   "source": [
    "Dropping unnecessary features as we'll work with country-wise information."
   ]
  },
  {
   "cell_type": "code",
   "execution_count": 4,
   "id": "ecological-anchor",
   "metadata": {},
   "outputs": [],
   "source": [
    "deaths.drop(columns=['Province/State'], inplace=True)"
   ]
  },
  {
   "cell_type": "markdown",
   "id": "offensive-productivity",
   "metadata": {},
   "source": [
    "### Changing data display from wide format to long format"
   ]
  },
  {
   "cell_type": "markdown",
   "id": "recovered-tracy",
   "metadata": {},
   "source": [
    "This will be useful later on for easier data viz.\n",
    "\n",
    "It's simply a reshape of the dataframe grabbing all the dates columns and turning them into one `Date` column and using each of their values for a new column called `Deaths`."
   ]
  },
  {
   "cell_type": "code",
   "execution_count": 5,
   "id": "organic-energy",
   "metadata": {},
   "outputs": [
    {
     "data": {
      "text/html": [
       "<div>\n",
       "<style scoped>\n",
       "    .dataframe tbody tr th:only-of-type {\n",
       "        vertical-align: middle;\n",
       "    }\n",
       "\n",
       "    .dataframe tbody tr th {\n",
       "        vertical-align: top;\n",
       "    }\n",
       "\n",
       "    .dataframe thead th {\n",
       "        text-align: right;\n",
       "    }\n",
       "</style>\n",
       "<table border=\"1\" class=\"dataframe\">\n",
       "  <thead>\n",
       "    <tr style=\"text-align: right;\">\n",
       "      <th></th>\n",
       "      <th>Country/Region</th>\n",
       "      <th>Lat</th>\n",
       "      <th>Long</th>\n",
       "      <th>Date</th>\n",
       "      <th>Deaths</th>\n",
       "    </tr>\n",
       "  </thead>\n",
       "  <tbody>\n",
       "    <tr>\n",
       "      <th>0</th>\n",
       "      <td>Afghanistan</td>\n",
       "      <td>33.93911</td>\n",
       "      <td>67.709953</td>\n",
       "      <td>1/22/20</td>\n",
       "      <td>0</td>\n",
       "    </tr>\n",
       "    <tr>\n",
       "      <th>1</th>\n",
       "      <td>Albania</td>\n",
       "      <td>41.15330</td>\n",
       "      <td>20.168300</td>\n",
       "      <td>1/22/20</td>\n",
       "      <td>0</td>\n",
       "    </tr>\n",
       "    <tr>\n",
       "      <th>2</th>\n",
       "      <td>Algeria</td>\n",
       "      <td>28.03390</td>\n",
       "      <td>1.659600</td>\n",
       "      <td>1/22/20</td>\n",
       "      <td>0</td>\n",
       "    </tr>\n",
       "    <tr>\n",
       "      <th>3</th>\n",
       "      <td>Andorra</td>\n",
       "      <td>42.50630</td>\n",
       "      <td>1.521800</td>\n",
       "      <td>1/22/20</td>\n",
       "      <td>0</td>\n",
       "    </tr>\n",
       "    <tr>\n",
       "      <th>4</th>\n",
       "      <td>Angola</td>\n",
       "      <td>-11.20270</td>\n",
       "      <td>17.873900</td>\n",
       "      <td>1/22/20</td>\n",
       "      <td>0</td>\n",
       "    </tr>\n",
       "  </tbody>\n",
       "</table>\n",
       "</div>"
      ],
      "text/plain": [
       "  Country/Region       Lat       Long     Date  Deaths\n",
       "0    Afghanistan  33.93911  67.709953  1/22/20       0\n",
       "1        Albania  41.15330  20.168300  1/22/20       0\n",
       "2        Algeria  28.03390   1.659600  1/22/20       0\n",
       "3        Andorra  42.50630   1.521800  1/22/20       0\n",
       "4         Angola -11.20270  17.873900  1/22/20       0"
      ]
     },
     "execution_count": 5,
     "metadata": {},
     "output_type": "execute_result"
    }
   ],
   "source": [
    "dates_list = deaths.columns.drop(['Country/Region', 'Lat', 'Long' ])\n",
    "\n",
    "deaths_df = deaths.melt(id_vars=['Country/Region', 'Lat', 'Long' ], value_vars=dates_list,\n",
    "           var_name='Date', value_name='Deaths')\n",
    "\n",
    "deaths_df.head()"
   ]
  },
  {
   "cell_type": "markdown",
   "id": "respiratory-quebec",
   "metadata": {},
   "source": [
    "As some countries have information per `Province/State` we need to group information by `Country/Region` and `Date` to get the correspondent total `Deaths`."
   ]
  },
  {
   "cell_type": "code",
   "execution_count": 6,
   "id": "personalized-recipe",
   "metadata": {},
   "outputs": [],
   "source": [
    "deaths_grouped = deaths_df.groupby(by=['Country/Region', 'Date'], as_index=False).agg({\n",
    "    'Lat': np.mean, # We'll use the mean to get a correct location to be used in Tableau\n",
    "    'Long': np.mean,\n",
    "    'Deaths': sum\n",
    "})"
   ]
  },
  {
   "cell_type": "markdown",
   "id": "manufactured-advocate",
   "metadata": {},
   "source": [
    "## Confirmed cases data set"
   ]
  },
  {
   "cell_type": "markdown",
   "id": "tracked-guitar",
   "metadata": {},
   "source": [
    "Given that's the same format as in the `deaths` dataset, we'll perform the same operations."
   ]
  },
  {
   "cell_type": "code",
   "execution_count": 7,
   "id": "becoming-adolescent",
   "metadata": {},
   "outputs": [
    {
     "data": {
      "text/html": [
       "<div>\n",
       "<style scoped>\n",
       "    .dataframe tbody tr th:only-of-type {\n",
       "        vertical-align: middle;\n",
       "    }\n",
       "\n",
       "    .dataframe tbody tr th {\n",
       "        vertical-align: top;\n",
       "    }\n",
       "\n",
       "    .dataframe thead th {\n",
       "        text-align: right;\n",
       "    }\n",
       "</style>\n",
       "<table border=\"1\" class=\"dataframe\">\n",
       "  <thead>\n",
       "    <tr style=\"text-align: right;\">\n",
       "      <th></th>\n",
       "      <th>Province/State</th>\n",
       "      <th>Country/Region</th>\n",
       "      <th>Lat</th>\n",
       "      <th>Long</th>\n",
       "      <th>1/22/20</th>\n",
       "      <th>1/23/20</th>\n",
       "      <th>1/24/20</th>\n",
       "      <th>1/25/20</th>\n",
       "      <th>1/26/20</th>\n",
       "      <th>1/27/20</th>\n",
       "      <th>...</th>\n",
       "      <th>5/7/21</th>\n",
       "      <th>5/8/21</th>\n",
       "      <th>5/9/21</th>\n",
       "      <th>5/10/21</th>\n",
       "      <th>5/11/21</th>\n",
       "      <th>5/12/21</th>\n",
       "      <th>5/13/21</th>\n",
       "      <th>5/14/21</th>\n",
       "      <th>5/15/21</th>\n",
       "      <th>5/16/21</th>\n",
       "    </tr>\n",
       "  </thead>\n",
       "  <tbody>\n",
       "    <tr>\n",
       "      <th>0</th>\n",
       "      <td>NaN</td>\n",
       "      <td>Afghanistan</td>\n",
       "      <td>33.93911</td>\n",
       "      <td>67.709953</td>\n",
       "      <td>0</td>\n",
       "      <td>0</td>\n",
       "      <td>0</td>\n",
       "      <td>0</td>\n",
       "      <td>0</td>\n",
       "      <td>0</td>\n",
       "      <td>...</td>\n",
       "      <td>61455</td>\n",
       "      <td>61755</td>\n",
       "      <td>61842</td>\n",
       "      <td>62063</td>\n",
       "      <td>62403</td>\n",
       "      <td>62718</td>\n",
       "      <td>63045</td>\n",
       "      <td>63355</td>\n",
       "      <td>63412</td>\n",
       "      <td>63484</td>\n",
       "    </tr>\n",
       "    <tr>\n",
       "      <th>1</th>\n",
       "      <td>NaN</td>\n",
       "      <td>Albania</td>\n",
       "      <td>41.15330</td>\n",
       "      <td>20.168300</td>\n",
       "      <td>0</td>\n",
       "      <td>0</td>\n",
       "      <td>0</td>\n",
       "      <td>0</td>\n",
       "      <td>0</td>\n",
       "      <td>0</td>\n",
       "      <td>...</td>\n",
       "      <td>131577</td>\n",
       "      <td>131666</td>\n",
       "      <td>131723</td>\n",
       "      <td>131753</td>\n",
       "      <td>131803</td>\n",
       "      <td>131845</td>\n",
       "      <td>131890</td>\n",
       "      <td>131939</td>\n",
       "      <td>131978</td>\n",
       "      <td>132015</td>\n",
       "    </tr>\n",
       "    <tr>\n",
       "      <th>2</th>\n",
       "      <td>NaN</td>\n",
       "      <td>Algeria</td>\n",
       "      <td>28.03390</td>\n",
       "      <td>1.659600</td>\n",
       "      <td>0</td>\n",
       "      <td>0</td>\n",
       "      <td>0</td>\n",
       "      <td>0</td>\n",
       "      <td>0</td>\n",
       "      <td>0</td>\n",
       "      <td>...</td>\n",
       "      <td>123692</td>\n",
       "      <td>123900</td>\n",
       "      <td>124104</td>\n",
       "      <td>124288</td>\n",
       "      <td>124483</td>\n",
       "      <td>124682</td>\n",
       "      <td>124889</td>\n",
       "      <td>125059</td>\n",
       "      <td>125194</td>\n",
       "      <td>125311</td>\n",
       "    </tr>\n",
       "    <tr>\n",
       "      <th>3</th>\n",
       "      <td>NaN</td>\n",
       "      <td>Andorra</td>\n",
       "      <td>42.50630</td>\n",
       "      <td>1.521800</td>\n",
       "      <td>0</td>\n",
       "      <td>0</td>\n",
       "      <td>0</td>\n",
       "      <td>0</td>\n",
       "      <td>0</td>\n",
       "      <td>0</td>\n",
       "      <td>...</td>\n",
       "      <td>13390</td>\n",
       "      <td>13406</td>\n",
       "      <td>13423</td>\n",
       "      <td>13429</td>\n",
       "      <td>13447</td>\n",
       "      <td>13470</td>\n",
       "      <td>13470</td>\n",
       "      <td>13510</td>\n",
       "      <td>13510</td>\n",
       "      <td>13510</td>\n",
       "    </tr>\n",
       "    <tr>\n",
       "      <th>4</th>\n",
       "      <td>NaN</td>\n",
       "      <td>Angola</td>\n",
       "      <td>-11.20270</td>\n",
       "      <td>17.873900</td>\n",
       "      <td>0</td>\n",
       "      <td>0</td>\n",
       "      <td>0</td>\n",
       "      <td>0</td>\n",
       "      <td>0</td>\n",
       "      <td>0</td>\n",
       "      <td>...</td>\n",
       "      <td>28201</td>\n",
       "      <td>28477</td>\n",
       "      <td>28740</td>\n",
       "      <td>28875</td>\n",
       "      <td>29146</td>\n",
       "      <td>29405</td>\n",
       "      <td>29695</td>\n",
       "      <td>30030</td>\n",
       "      <td>30354</td>\n",
       "      <td>30637</td>\n",
       "    </tr>\n",
       "  </tbody>\n",
       "</table>\n",
       "<p>5 rows × 485 columns</p>\n",
       "</div>"
      ],
      "text/plain": [
       "  Province/State Country/Region       Lat       Long  1/22/20  1/23/20  \\\n",
       "0            NaN    Afghanistan  33.93911  67.709953        0        0   \n",
       "1            NaN        Albania  41.15330  20.168300        0        0   \n",
       "2            NaN        Algeria  28.03390   1.659600        0        0   \n",
       "3            NaN        Andorra  42.50630   1.521800        0        0   \n",
       "4            NaN         Angola -11.20270  17.873900        0        0   \n",
       "\n",
       "   1/24/20  1/25/20  1/26/20  1/27/20  ...  5/7/21  5/8/21  5/9/21  5/10/21  \\\n",
       "0        0        0        0        0  ...   61455   61755   61842    62063   \n",
       "1        0        0        0        0  ...  131577  131666  131723   131753   \n",
       "2        0        0        0        0  ...  123692  123900  124104   124288   \n",
       "3        0        0        0        0  ...   13390   13406   13423    13429   \n",
       "4        0        0        0        0  ...   28201   28477   28740    28875   \n",
       "\n",
       "   5/11/21  5/12/21  5/13/21  5/14/21  5/15/21  5/16/21  \n",
       "0    62403    62718    63045    63355    63412    63484  \n",
       "1   131803   131845   131890   131939   131978   132015  \n",
       "2   124483   124682   124889   125059   125194   125311  \n",
       "3    13447    13470    13470    13510    13510    13510  \n",
       "4    29146    29405    29695    30030    30354    30637  \n",
       "\n",
       "[5 rows x 485 columns]"
      ]
     },
     "execution_count": 7,
     "metadata": {},
     "output_type": "execute_result"
    }
   ],
   "source": [
    "confirmed = pd.read_csv('https://raw.githubusercontent.com/CSSEGISandData/COVID-19/master/csse_covid_19_data/csse_covid_19_time_series/time_series_covid19_confirmed_global.csv')\n",
    "confirmed.head()"
   ]
  },
  {
   "cell_type": "code",
   "execution_count": 8,
   "id": "solved-software",
   "metadata": {},
   "outputs": [],
   "source": [
    "confirmed.drop(columns=['Province/State'], inplace=True)\n",
    "\n",
    "confirmed_df = confirmed.melt(id_vars=['Country/Region', 'Lat', 'Long' ], value_vars=dates_list,\n",
    "           var_name='Date', value_name='Confirmed')\n",
    "\n",
    "\n",
    "confirmed_grouped = confirmed_df.groupby(by=['Country/Region', 'Date'], as_index=False).agg({\n",
    "    'Lat': np.mean, # We'll use the mean to get a correct location to be used in Tableau\n",
    "    'Long': np.mean,\n",
    "    'Confirmed': sum\n",
    "})"
   ]
  },
  {
   "cell_type": "markdown",
   "id": "greenhouse-junction",
   "metadata": {},
   "source": [
    "## Recovered cases data set"
   ]
  },
  {
   "cell_type": "code",
   "execution_count": 9,
   "id": "understood-street",
   "metadata": {},
   "outputs": [],
   "source": [
    "recovered = pd.read_csv('https://raw.githubusercontent.com/CSSEGISandData/COVID-19/master/csse_covid_19_data/csse_covid_19_time_series/time_series_covid19_recovered_global.csv')"
   ]
  },
  {
   "cell_type": "code",
   "execution_count": 10,
   "id": "another-contents",
   "metadata": {},
   "outputs": [],
   "source": [
    "recovered.drop(columns=['Province/State'], inplace=True)\n",
    "\n",
    "recovered_df = recovered.melt(id_vars=['Country/Region', 'Lat', 'Long' ], value_vars=dates_list,\n",
    "           var_name='Date', value_name='Recovered')\n",
    "\n",
    "\n",
    "recovered_grouped = recovered_df.groupby(by=['Country/Region', 'Date'], as_index=False).agg({\n",
    "    'Lat': np.mean, # We'll use the mean to get a correct location to be used in Tableau\n",
    "    'Long': np.mean,\n",
    "    'Recovered': sum\n",
    "})"
   ]
  },
  {
   "cell_type": "markdown",
   "id": "caroline-redhead",
   "metadata": {},
   "source": [
    "# Merging data"
   ]
  },
  {
   "cell_type": "code",
   "execution_count": 11,
   "id": "federal-plasma",
   "metadata": {},
   "outputs": [
    {
     "data": {
      "text/plain": [
       "((92352, 5), (92352, 5), (92352, 5))"
      ]
     },
     "execution_count": 11,
     "metadata": {},
     "output_type": "execute_result"
    }
   ],
   "source": [
    "recovered_grouped.shape, deaths_grouped.shape, confirmed_grouped.shape "
   ]
  },
  {
   "cell_type": "code",
   "execution_count": 12,
   "id": "toxic-bikini",
   "metadata": {},
   "outputs": [],
   "source": [
    "data = recovered_grouped.merge(deaths_grouped, on=['Country/Region', 'Lat', 'Long', 'Date']).merge(confirmed_grouped, on=['Country/Region', 'Lat', 'Long', 'Date'])"
   ]
  },
  {
   "cell_type": "code",
   "execution_count": 13,
   "id": "middle-slope",
   "metadata": {},
   "outputs": [
    {
     "data": {
      "text/html": [
       "<div>\n",
       "<style scoped>\n",
       "    .dataframe tbody tr th:only-of-type {\n",
       "        vertical-align: middle;\n",
       "    }\n",
       "\n",
       "    .dataframe tbody tr th {\n",
       "        vertical-align: top;\n",
       "    }\n",
       "\n",
       "    .dataframe thead th {\n",
       "        text-align: right;\n",
       "    }\n",
       "</style>\n",
       "<table border=\"1\" class=\"dataframe\">\n",
       "  <thead>\n",
       "    <tr style=\"text-align: right;\">\n",
       "      <th></th>\n",
       "      <th>Country/Region</th>\n",
       "      <th>Date</th>\n",
       "      <th>Lat</th>\n",
       "      <th>Long</th>\n",
       "      <th>Recovered</th>\n",
       "      <th>Deaths</th>\n",
       "      <th>Confirmed</th>\n",
       "    </tr>\n",
       "  </thead>\n",
       "  <tbody>\n",
       "    <tr>\n",
       "      <th>64020</th>\n",
       "      <td>Peru</td>\n",
       "      <td>10/15/20</td>\n",
       "      <td>-9.19000</td>\n",
       "      <td>-75.015200</td>\n",
       "      <td>759597</td>\n",
       "      <td>33577</td>\n",
       "      <td>859740</td>\n",
       "    </tr>\n",
       "    <tr>\n",
       "      <th>21046</th>\n",
       "      <td>Cyprus</td>\n",
       "      <td>6/13/20</td>\n",
       "      <td>35.12640</td>\n",
       "      <td>33.429900</td>\n",
       "      <td>807</td>\n",
       "      <td>18</td>\n",
       "      <td>980</td>\n",
       "    </tr>\n",
       "    <tr>\n",
       "      <th>55457</th>\n",
       "      <td>Monaco</td>\n",
       "      <td>2/13/21</td>\n",
       "      <td>43.73330</td>\n",
       "      <td>7.416700</td>\n",
       "      <td>1510</td>\n",
       "      <td>21</td>\n",
       "      <td>1755</td>\n",
       "    </tr>\n",
       "    <tr>\n",
       "      <th>30259</th>\n",
       "      <td>Gambia</td>\n",
       "      <td>8/25/20</td>\n",
       "      <td>13.44320</td>\n",
       "      <td>-15.310100</td>\n",
       "      <td>601</td>\n",
       "      <td>90</td>\n",
       "      <td>2686</td>\n",
       "    </tr>\n",
       "    <tr>\n",
       "      <th>45084</th>\n",
       "      <td>Laos</td>\n",
       "      <td>5/6/20</td>\n",
       "      <td>19.85627</td>\n",
       "      <td>102.495496</td>\n",
       "      <td>10</td>\n",
       "      <td>0</td>\n",
       "      <td>19</td>\n",
       "    </tr>\n",
       "  </tbody>\n",
       "</table>\n",
       "</div>"
      ],
      "text/plain": [
       "      Country/Region      Date       Lat        Long  Recovered  Deaths  \\\n",
       "64020           Peru  10/15/20  -9.19000  -75.015200     759597   33577   \n",
       "21046         Cyprus   6/13/20  35.12640   33.429900        807      18   \n",
       "55457         Monaco   2/13/21  43.73330    7.416700       1510      21   \n",
       "30259         Gambia   8/25/20  13.44320  -15.310100        601      90   \n",
       "45084           Laos    5/6/20  19.85627  102.495496         10       0   \n",
       "\n",
       "       Confirmed  \n",
       "64020     859740  \n",
       "21046        980  \n",
       "55457       1755  \n",
       "30259       2686  \n",
       "45084         19  "
      ]
     },
     "execution_count": 13,
     "metadata": {},
     "output_type": "execute_result"
    }
   ],
   "source": [
    "data.sample(5)"
   ]
  },
  {
   "cell_type": "code",
   "execution_count": 14,
   "id": "superior-supplier",
   "metadata": {},
   "outputs": [
    {
     "data": {
      "text/plain": [
       "187"
      ]
     },
     "execution_count": 14,
     "metadata": {},
     "output_type": "execute_result"
    }
   ],
   "source": [
    "data['Country/Region'].nunique()"
   ]
  },
  {
   "cell_type": "markdown",
   "id": "relevant-place",
   "metadata": {},
   "source": [
    "# Combining our data with total population for each country"
   ]
  },
  {
   "cell_type": "markdown",
   "id": "innocent-copyright",
   "metadata": {},
   "source": [
    "We get another dataset containing the population for each country in order to be able to present data normalized by inhabitants.\n",
    "\n",
    "Source: [World Population Review](https://worldpopulationreview.com/countries)"
   ]
  },
  {
   "cell_type": "code",
   "execution_count": 15,
   "id": "aerial-tutorial",
   "metadata": {
    "scrolled": true
   },
   "outputs": [],
   "source": [
    "population = pd.read_csv('population.csv').drop(columns='Rank')\n",
    "\n",
    "population['pop2021'] = population['pop2021'] * 1000\n",
    "population['pop2020'] = population['pop2020'] * 1000"
   ]
  },
  {
   "cell_type": "code",
   "execution_count": 16,
   "id": "reflected-dispute",
   "metadata": {},
   "outputs": [
    {
     "data": {
      "text/html": [
       "<div>\n",
       "<style scoped>\n",
       "    .dataframe tbody tr th:only-of-type {\n",
       "        vertical-align: middle;\n",
       "    }\n",
       "\n",
       "    .dataframe tbody tr th {\n",
       "        vertical-align: top;\n",
       "    }\n",
       "\n",
       "    .dataframe thead th {\n",
       "        text-align: right;\n",
       "    }\n",
       "</style>\n",
       "<table border=\"1\" class=\"dataframe\">\n",
       "  <thead>\n",
       "    <tr style=\"text-align: right;\">\n",
       "      <th></th>\n",
       "      <th>name</th>\n",
       "      <th>pop2021</th>\n",
       "      <th>pop2020</th>\n",
       "      <th>GrowthRate</th>\n",
       "      <th>area</th>\n",
       "      <th>Density</th>\n",
       "    </tr>\n",
       "  </thead>\n",
       "  <tbody>\n",
       "    <tr>\n",
       "      <th>0</th>\n",
       "      <td>China</td>\n",
       "      <td>1.444216e+09</td>\n",
       "      <td>1.439324e+09</td>\n",
       "      <td>1.0034</td>\n",
       "      <td>9706961</td>\n",
       "      <td>147.7068</td>\n",
       "    </tr>\n",
       "    <tr>\n",
       "      <th>1</th>\n",
       "      <td>India</td>\n",
       "      <td>1.393409e+09</td>\n",
       "      <td>1.380004e+09</td>\n",
       "      <td>1.0097</td>\n",
       "      <td>3287590</td>\n",
       "      <td>415.6290</td>\n",
       "    </tr>\n",
       "    <tr>\n",
       "      <th>2</th>\n",
       "      <td>United States</td>\n",
       "      <td>3.329151e+08</td>\n",
       "      <td>3.310027e+08</td>\n",
       "      <td>1.0058</td>\n",
       "      <td>9372610</td>\n",
       "      <td>35.1092</td>\n",
       "    </tr>\n",
       "    <tr>\n",
       "      <th>3</th>\n",
       "      <td>Indonesia</td>\n",
       "      <td>2.763618e+08</td>\n",
       "      <td>2.735236e+08</td>\n",
       "      <td>1.0104</td>\n",
       "      <td>1904569</td>\n",
       "      <td>142.0928</td>\n",
       "    </tr>\n",
       "    <tr>\n",
       "      <th>4</th>\n",
       "      <td>Pakistan</td>\n",
       "      <td>2.251999e+08</td>\n",
       "      <td>2.208923e+08</td>\n",
       "      <td>1.0195</td>\n",
       "      <td>881912</td>\n",
       "      <td>245.5634</td>\n",
       "    </tr>\n",
       "  </tbody>\n",
       "</table>\n",
       "</div>"
      ],
      "text/plain": [
       "            name       pop2021       pop2020  GrowthRate     area   Density\n",
       "0          China  1.444216e+09  1.439324e+09      1.0034  9706961  147.7068\n",
       "1          India  1.393409e+09  1.380004e+09      1.0097  3287590  415.6290\n",
       "2  United States  3.329151e+08  3.310027e+08      1.0058  9372610   35.1092\n",
       "3      Indonesia  2.763618e+08  2.735236e+08      1.0104  1904569  142.0928\n",
       "4       Pakistan  2.251999e+08  2.208923e+08      1.0195   881912  245.5634"
      ]
     },
     "execution_count": 16,
     "metadata": {},
     "output_type": "execute_result"
    }
   ],
   "source": [
    "population.head()"
   ]
  },
  {
   "cell_type": "markdown",
   "id": "interesting-comparative",
   "metadata": {},
   "source": [
    "We'll check if every country's name is spelled the same in both datasets."
   ]
  },
  {
   "cell_type": "code",
   "execution_count": 17,
   "id": "steady-forward",
   "metadata": {},
   "outputs": [
    {
     "data": {
      "text/plain": [
       "['Burma',\n",
       " 'Cabo Verde',\n",
       " 'Congo (Brazzaville)',\n",
       " 'Congo (Kinshasa)',\n",
       " \"Cote d'Ivoire\",\n",
       " 'Czechia',\n",
       " 'Diamond Princess',\n",
       " 'Eswatini',\n",
       " 'Holy See',\n",
       " 'Korea, South',\n",
       " 'Kosovo',\n",
       " 'MS Zaandam',\n",
       " 'Taiwan*',\n",
       " 'US',\n",
       " 'West Bank and Gaza']"
      ]
     },
     "execution_count": 17,
     "metadata": {},
     "output_type": "execute_result"
    }
   ],
   "source": [
    " [country for country in data['Country/Region'].unique() if country not in population.name.unique()]"
   ]
  },
  {
   "cell_type": "markdown",
   "id": "lightweight-terminology",
   "metadata": {},
   "source": [
    "We'll need to manually input the names in our source dataset in order to match the population one."
   ]
  },
  {
   "cell_type": "code",
   "execution_count": 18,
   "id": "logical-vatican",
   "metadata": {},
   "outputs": [],
   "source": [
    "# We'll get rid of the Diamond Princess and MS Zaandam as we'll only consider countries.\n",
    "diamond = data[data['Country/Region'].str.contains('Diamond Princess') == True].index\n",
    "data.drop(diamond, inplace=True)\n",
    "zaandam = data[data['Country/Region'].str.contains('MS Zaandam') == True].index\n",
    "data.drop(zaandam, inplace=True)\n",
    "# We'll drop territories under dispute as they may be duplicating data.\n",
    "kosovo = data[data['Country/Region'].str.contains('Kosovo') == True].index\n",
    "data.drop(kosovo, inplace=True)\n",
    "west_bank = data[data['Country/Region'].str.contains('West Bank and Gaza') == True].index\n",
    "data.drop(west_bank, inplace=True)"
   ]
  },
  {
   "cell_type": "code",
   "execution_count": 19,
   "id": "entitled-mirror",
   "metadata": {},
   "outputs": [],
   "source": [
    "data['Country/Region'] = data['Country/Region'].str.replace('Burma', 'Myanmar')\n",
    "data['Country/Region'] = data['Country/Region'].str.replace('Cabo Verde', 'Cape Verde')\n",
    "data['Country/Region'] = data['Country/Region'].str.replace('''Congo (Brazzaville)''', 'Republic of the Congo',\n",
    "                                                            regex=False)\n",
    "data['Country/Region'] = data['Country/Region'].str.replace('''Congo (Kinshasa)''', 'DR Congo',\n",
    "                                                            regex=False)\n",
    "data['Country/Region'] = data['Country/Region'].str.replace('''Cote d'Ivoire''', 'Ivory Coast')\n",
    "data['Country/Region'] = data['Country/Region'].str.replace('Czechia', 'Czech Republic')\n",
    "data['Country/Region'] = data['Country/Region'].str.replace('Eswatini', 'Swaziland')\n",
    "data['Country/Region'] = data['Country/Region'].str.replace('Holy See', 'Vatican City')\n",
    "data['Country/Region'] = data['Country/Region'].str.replace('Korea, South', 'South Korea')\n",
    "data['Country/Region'] = data['Country/Region'].str.replace('Taiwan*', 'Taiwan', regex=False)\n",
    "data['Country/Region'] = data['Country/Region'].str.replace('US', 'United States')\n"
   ]
  },
  {
   "cell_type": "markdown",
   "id": "broad-effect",
   "metadata": {},
   "source": [
    "Test to check that every country is accounted for at the population dataframe:"
   ]
  },
  {
   "cell_type": "code",
   "execution_count": 20,
   "id": "developmental-package",
   "metadata": {},
   "outputs": [
    {
     "data": {
      "text/plain": [
       "'✅ Everything OK'"
      ]
     },
     "execution_count": 20,
     "metadata": {},
     "output_type": "execute_result"
    }
   ],
   "source": [
    "missing_countries = [country for country in data['Country/Region'].unique() \n",
    "                      if country not in population.name.unique()]\n",
    "def test_countries():\n",
    "    assert len(missing_countries) == 0, 'There are some countries not listed in population dataframe'\n",
    "    return '✅ Everything OK'\n",
    "\n",
    "test_countries()"
   ]
  },
  {
   "cell_type": "markdown",
   "id": "likely-employee",
   "metadata": {},
   "source": [
    "# Export data"
   ]
  },
  {
   "cell_type": "code",
   "execution_count": 21,
   "id": "widespread-working",
   "metadata": {},
   "outputs": [],
   "source": [
    "data.to_csv('covid.csv', index=False)"
   ]
  }
 ],
 "metadata": {
  "kernelspec": {
   "display_name": "Python 3",
   "language": "python",
   "name": "python3"
  },
  "language_info": {
   "codemirror_mode": {
    "name": "ipython",
    "version": 3
   },
   "file_extension": ".py",
   "mimetype": "text/x-python",
   "name": "python",
   "nbconvert_exporter": "python",
   "pygments_lexer": "ipython3",
   "version": "3.8.6"
  },
  "toc": {
   "base_numbering": 1,
   "nav_menu": {},
   "number_sections": true,
   "sideBar": true,
   "skip_h1_title": false,
   "title_cell": "Table of Contents",
   "title_sidebar": "Contents",
   "toc_cell": false,
   "toc_position": {},
   "toc_section_display": true,
   "toc_window_display": false
  },
  "varInspector": {
   "cols": {
    "lenName": 16,
    "lenType": 16,
    "lenVar": 40
   },
   "kernels_config": {
    "python": {
     "delete_cmd_postfix": "",
     "delete_cmd_prefix": "del ",
     "library": "var_list.py",
     "varRefreshCmd": "print(var_dic_list())"
    },
    "r": {
     "delete_cmd_postfix": ") ",
     "delete_cmd_prefix": "rm(",
     "library": "var_list.r",
     "varRefreshCmd": "cat(var_dic_list()) "
    }
   },
   "types_to_exclude": [
    "module",
    "function",
    "builtin_function_or_method",
    "instance",
    "_Feature"
   ],
   "window_display": false
  }
 },
 "nbformat": 4,
 "nbformat_minor": 5
}
